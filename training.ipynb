{
 "cells": [
  {
   "cell_type": "code",
   "execution_count": 264,
   "id": "4700e6c1",
   "metadata": {},
   "outputs": [],
   "source": [
    "from sklearn.ensemble import RandomForestRegressor"
   ]
  },
  {
   "cell_type": "code",
   "execution_count": 318,
   "id": "7d2e7ca7",
   "metadata": {},
   "outputs": [],
   "source": [
    "def read_and_concat(file_list):\n",
    "    dfs = [pd.read_csv(f) for f in file_list]\n",
    "    return pd.concat(dfs, ignore_index=True)"
   ]
  },
  {
   "cell_type": "code",
   "execution_count": 567,
   "id": "36a5af8c",
   "metadata": {},
   "outputs": [],
   "source": [
    "import glob\n",
    "import pandas as pd\n",
    "\n",
    "file_list_2022 = glob.glob(\"2022/*.csv\")\n",
    "file_list_2023 = glob.glob(\"2023/*.csv\")\n",
    "file_list_2024 = glob.glob(\"2024/*.csv\")\n",
    "file_list_2025 = glob.glob(\"2025/*.csv\")"
   ]
  },
  {
   "cell_type": "code",
   "execution_count": 568,
   "id": "f2901154",
   "metadata": {},
   "outputs": [],
   "source": [
    "df_2022 = read_and_concat(file_list_2022)\n",
    "df_2023 = read_and_concat(file_list_2023)\n",
    "df_2024 = read_and_concat(file_list_2024)\n",
    "\n",
    "big_df = pd.concat([df_2022, df_2023, df_2024], ignore_index=True)\n",
    "big_df = big_df.dropna(subset=[\"FinishingPos\"])"
   ]
  },
  {
   "cell_type": "code",
   "execution_count": 569,
   "id": "4c457ce0",
   "metadata": {},
   "outputs": [],
   "source": [
    "X_train = big_df.drop([\"FinishingPos\"], axis=1)\n",
    "y_train = big_df[\"FinishingPos\"]"
   ]
  },
  {
   "cell_type": "code",
   "execution_count": 570,
   "id": "663a3518",
   "metadata": {},
   "outputs": [],
   "source": [
    "test_df = read_and_concat(file_list_2025)\n",
    "test_df = test_df.dropna(subset=[\"FinishingPos\"])"
   ]
  },
  {
   "cell_type": "code",
   "execution_count": 571,
   "id": "3a662c0c",
   "metadata": {},
   "outputs": [],
   "source": [
    "X_test = test_df.drop([\"FinishingPos\"], axis=1)\n",
    "Y_test = test_df[\"FinishingPos\"]"
   ]
  },
  {
   "cell_type": "code",
   "execution_count": 572,
   "id": "e51302db",
   "metadata": {},
   "outputs": [],
   "source": [
    "from sklearn.model_selection import RandomizedSearchCV\n",
    "param_dist = {\n",
    "    \"n_estimators\" : [i for i in range(1, 1001, 10)],\n",
    "    \"max_depth\" : [i for i in range(1,101)],\n",
    "    \"min_samples_split\" : [i for i in range(2,101)],\n",
    "    \"min_samples_leaf\" : [i for i in range(1,101)],\n",
    "    \"max_features\" : [\"sqrt\", \"log2\", None],\n",
    "    \"bootstrap\" : [True],\n",
    "    \"max_samples\" : [0.5, 0.6, 0.7, 0.8, 0.9],\n",
    "    \"random_state\" : [30]\n",
    "}\n",
    "\n",
    "rfr = RandomForestRegressor(random_state=30)\n",
    "rfr = RandomizedSearchCV(\n",
    "    estimator=rfr,\n",
    "    param_distributions=param_dist,\n",
    "    n_iter=100,\n",
    "    cv=5,\n",
    "    verbose=2,\n",
    "    n_jobs=-1,\n",
    "    scoring=\"r2\"\n",
    ")"
   ]
  },
  {
   "cell_type": "code",
   "execution_count": null,
   "id": "6a4cb331",
   "metadata": {},
   "outputs": [
    {
     "name": "stdout",
     "output_type": "stream",
     "text": [
      "Fitting 5 folds for each of 100 candidates, totalling 500 fits\n"
     ]
    }
   ],
   "source": [
    "rfr.fit(X_train, y_train)"
   ]
  },
  {
   "cell_type": "code",
   "execution_count": null,
   "id": "356960b7",
   "metadata": {},
   "outputs": [],
   "source": [
    "def get_df_preds(X_test, Y_pred):\n",
    "    df_preds = pd.DataFrame({\n",
    "        \"RaceId\" : X_test[\"RacesInGEEra\"],\n",
    "        \"PredictedValue\" : Y_pred\n",
    "    })\n",
    "\n",
    "    # argsort the race predictions made by the model\n",
    "    # each race is grouped by RacesInGEEra\n",
    "    df_preds[\"PredictedRank\"] = df_preds.groupby(\"RaceId\")[\"PredictedValue\"].rank(method=\"first\", ascending=True).astype(int)\n",
    "\n",
    "    return df_preds"
   ]
  },
  {
   "cell_type": "code",
   "execution_count": 564,
   "id": "fc8a33b9",
   "metadata": {},
   "outputs": [],
   "source": [
    "Y_pred = rfr.predict(X_test)\n",
    "df_preds = get_df_preds(X_test, Y_pred)"
   ]
  },
  {
   "cell_type": "code",
   "execution_count": 565,
   "id": "9e35f182",
   "metadata": {},
   "outputs": [
    {
     "name": "stdout",
     "output_type": "stream",
     "text": [
      "2.2393822393822393\n",
      "10.447876447876448\n",
      "0.6836716179437532\n"
     ]
    }
   ],
   "source": [
    "from sklearn.metrics import mean_absolute_error, mean_squared_error, r2_score\n",
    "\n",
    "print(mean_absolute_error(Y_test, df_preds[\"PredictedRank\"]))\n",
    "print(mean_squared_error(Y_test, df_preds[\"PredictedRank\"]))\n",
    "print(r2_score(Y_test, df_preds[\"PredictedRank\"]))"
   ]
  },
  {
   "cell_type": "code",
   "execution_count": 533,
   "id": "63be63b1",
   "metadata": {},
   "outputs": [
    {
     "name": "stdout",
     "output_type": "stream",
     "text": [
      "0.6666666666666667 2025\\Barcelona_race.csv\n",
      "0.8045112781954887 2025\\Imola_race.csv\n",
      "0.9157894736842105 2025\\Jeddah_race.csv\n",
      "0.6812030075187969 2025\\Melbourne_race.csv\n",
      "0.8796992481203008 2025\\Miami_race.csv\n",
      "0.5308270676691729 2025\\Monaco_race.csv\n",
      "0.7804511278195488 2025\\Montreal_race.csv\n",
      "0.6330827067669174 2025\\Sakhir_race.csv\n",
      "0.6451127819548872 2025\\Shanghai_race.csv\n",
      "0.33834586466165417 2025\\Silverstone_race.csv\n",
      "0.4676691729323308 2025\\Spa-Francorchamps_race.csv\n",
      "0.6691729323308271 2025\\Spielberg_race.csv\n",
      "0.924812030075188 2025\\Suzuka_race.csv\n"
     ]
    }
   ],
   "source": [
    "for file in file_list_2025:\n",
    "    spa = pd.read_csv(file)\n",
    "    spa = spa.drop([\"FullName\"], axis=1)\n",
    "    spa = spa.dropna(subset=[\"FinishingPos\"])\n",
    "    spa = pd.get_dummies(spa)\n",
    "    spa_X = spa.drop([\"FinishingPos\"], axis=1)\n",
    "    spa_Y = spa[\"FinishingPos\"]\n",
    "\n",
    "    X_train, spa_X = X_train.align(spa_X, join='left', axis=1, fill_value=0)\n",
    "    spa_Y_pred = rfr.predict(spa_X)\n",
    "\n",
    "    print(r2_score(spa_Y, get_df_preds(spa_X, spa_Y_pred)[\"PredictedRank\"]), file)"
   ]
  },
  {
   "cell_type": "code",
   "execution_count": 534,
   "id": "8b9f0017",
   "metadata": {},
   "outputs": [
    {
     "name": "stdout",
     "output_type": "stream",
     "text": [
      "0.33834586466165417\n"
     ]
    }
   ],
   "source": [
    "spa = pd.read_csv(\"2025/Silverstone_race.csv\")\n",
    "spa = spa.drop([\"FullName\"], axis=1)\n",
    "spa = spa.dropna(subset=[\"FinishingPos\"])\n",
    "spa = pd.get_dummies(spa)\n",
    "spa_X = spa.drop([\"FinishingPos\"], axis=1)\n",
    "spa_Y = spa[\"FinishingPos\"]\n",
    "\n",
    "X_train, spa_X = X_train.align(spa_X, join='left', axis=1, fill_value=0)\n",
    "spa_Y_pred = rfr.predict(spa_X)\n",
    "\n",
    "print(r2_score(spa_Y, get_df_preds(spa_X, spa_Y_pred)[\"PredictedRank\"]))"
   ]
  },
  {
   "cell_type": "code",
   "execution_count": 535,
   "id": "7b8acce7",
   "metadata": {},
   "outputs": [
    {
     "name": "stdout",
     "output_type": "stream",
     "text": [
      "Lando Norris - 3.0 - 1.0\n",
      "Oscar Piastri - 2.0 - 2.0\n",
      "Nico Hulkenberg - 15.0 - 3.0\n",
      "Lewis Hamilton - 5.0 - 4.0\n",
      "Max Verstappen - 1.0 - 5.0\n",
      "Pierre Gasly - 9.0 - 6.0\n",
      "Lance Stroll - 14.0 - 7.0\n",
      "Alex Albon - 12.0 - 8.0\n",
      "Fernando Alonso - 8.0 - 9.0\n",
      "George Russell - 6.0 - 10.0\n",
      "Oliver Bearman - 10.0 - 11.0\n",
      "Carlos Sainz - 11.0 - 12.0\n",
      "Estaban Ocon - 13.0 - 13.0\n",
      "Charles Leclerc - 4.0 - 14.0\n",
      "Yuki Tsunoda - 7.0 - 15.0\n",
      "Kimi Antonelli - 16.0 - 16.0\n",
      "Isack Hadjar - 20.0 - 17.0\n",
      "Gabriel Bortoleto - 19.0 - 18.0\n",
      "Liam Lawson - 17.0 - 19.0\n",
      "Franco Colapinto - 18.0 - 20.0\n"
     ]
    }
   ],
   "source": [
    "df_pred = get_df_preds(spa_X, spa_Y_pred)\n",
    "for i, pred in df_pred.iterrows():\n",
    "    print(f\"{driver_names[spa_X[\"DriverNumber\"][i]]} - {pred[\"PredictedRank\"]} - {spa_Y[i]}\")"
   ]
  },
  {
   "cell_type": "code",
   "execution_count": 221,
   "id": "e94d01d3",
   "metadata": {},
   "outputs": [],
   "source": [
    "driver_names = {\n",
    "    4 : \"Lando Norris\",\n",
    "    1 : \"Max Verstappen\",\n",
    "    81 : \"Oscar Piastri\",\n",
    "    16 : \"Charles Leclerc\",\n",
    "    22 : \"Yuki Tsunoda\",\n",
    "    23 : \"Alex Albon\",\n",
    "    63 : \"George Russell\",\n",
    "    6 : \"Isack Hadjar\",\n",
    "    5 : \"Gabriel Bortoleto\",\n",
    "    10 : \"Pierre Gasly\",\n",
    "    30 : \"Liam Lawson\",\n",
    "    31 : \"Estaban Ocon\",\n",
    "    87 : \"Oliver Bearman\",\n",
    "    12 : \"Kimi Antonelli\",\n",
    "    44 : \"Lewis Hamilton\",\n",
    "    14 : \"Fernando Alonso\",\n",
    "    18 : \"Lance Stroll\",\n",
    "    43 : \"Franco Colapinto\",\n",
    "    55 : \"Carlos Sainz\",\n",
    "    27 : \"Nico Hulkenberg\",\n",
    "    7 : \"Jack Doohan\"\n",
    "}"
   ]
  },
  {
   "cell_type": "code",
   "execution_count": 566,
   "id": "e765409d",
   "metadata": {},
   "outputs": [
    {
     "name": "stdout",
     "output_type": "stream",
     "text": [
      "                  Feature  Importance\n",
      "13                Retired    0.323341\n",
      "10            StartingPos    0.264068\n",
      "1                  TeamId    0.251296\n",
      "11              GapToPole    0.056659\n",
      "4            RacesInGEEra    0.032863\n",
      "12  TeammateQualifyingPos    0.013225\n",
      "0            DriverNumber    0.012576\n",
      "7               WindSpeed    0.009195\n",
      "8                 AirTemp    0.008474\n",
      "9               TrackTemp    0.007425\n",
      "5              LocationId    0.007299\n",
      "3             RoundNumber    0.006070\n",
      "2                  Season    0.005034\n",
      "6                    Rain    0.002476\n"
     ]
    }
   ],
   "source": [
    "best_rf = rfr.best_estimator_\n",
    "\n",
    "importances = best_rf.feature_importances_\n",
    "feature_names = X_train.columns\n",
    "\n",
    "importances_df = pd.DataFrame({\n",
    "    'Feature': feature_names,\n",
    "    'Importance': importances\n",
    "}).sort_values(by='Importance', ascending=False)\n",
    "\n",
    "print(importances_df)"
   ]
  },
  {
   "cell_type": "code",
   "execution_count": null,
   "id": "f0808871",
   "metadata": {},
   "outputs": [],
   "source": []
  },
  {
   "cell_type": "markdown",
   "id": "f3ec9cf6",
   "metadata": {},
   "source": [
    "Ways to improve\n",
    "- Swap quali pos and starting pos in csv files\n",
    "- Give each circuit an ID instead of bool columns. Circuit not taken into account for now"
   ]
  }
 ],
 "metadata": {
  "kernelspec": {
   "display_name": ".venv (3.12.4)",
   "language": "python",
   "name": "python3"
  },
  "language_info": {
   "codemirror_mode": {
    "name": "ipython",
    "version": 3
   },
   "file_extension": ".py",
   "mimetype": "text/x-python",
   "name": "python",
   "nbconvert_exporter": "python",
   "pygments_lexer": "ipython3",
   "version": "3.12.4"
  }
 },
 "nbformat": 4,
 "nbformat_minor": 5
}
