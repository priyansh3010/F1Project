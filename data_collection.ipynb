{
 "cells": [
  {
   "cell_type": "markdown",
   "id": "77c4b8be",
   "metadata": {},
   "source": [
    "Test"
   ]
  },
  {
   "cell_type": "code",
   "execution_count": 1,
   "id": "f0d2c93a",
   "metadata": {},
   "outputs": [],
   "source": [
    "import fastf1"
   ]
  },
  {
   "cell_type": "markdown",
   "id": "9e407eb4",
   "metadata": {},
   "source": [
    "Factors for ML Model to consider:\n",
    "\n",
    "- Starting positions\n",
    "- Gap to pole\n",
    "- Teammate starting positions\n",
    "- Weather (Wind, Rain, Average Track temp and air temp throughout full race)\n",
    "- Retired\n",
    "- Downforce index (may have to hardcode this) // for later\n",
    "- Tyre wear index (may have to hardcode this) // for later"
   ]
  },
  {
   "cell_type": "code",
   "execution_count": 2,
   "id": "7f29b69d",
   "metadata": {},
   "outputs": [],
   "source": [
    "# Calculate average wind direction\n",
    "def calculate_wind_speed(race):\n",
    "\n",
    "    wind_speed = race.weather_data[\"WindSpeed\"]\n",
    "    average_wind_speed = round(sum(wind_speed) / len(wind_speed), 5)\n",
    "\n",
    "    return average_wind_speed"
   ]
  },
  {
   "cell_type": "code",
   "execution_count": 3,
   "id": "8c96bfb3",
   "metadata": {},
   "outputs": [],
   "source": [
    "# Calculate average air temp\n",
    "def calculate_air_temp(race):\n",
    "\n",
    "    air_temp = race.weather_data[\"AirTemp\"]\n",
    "    average_air_temp = round(sum(air_temp) / len(air_temp), 5)\n",
    "\n",
    "    return average_air_temp"
   ]
  },
  {
   "cell_type": "code",
   "execution_count": 4,
   "id": "88ebe085",
   "metadata": {},
   "outputs": [],
   "source": [
    "# Calculate average track temp\n",
    "def calculate_track_temp(race):\n",
    "    track_temp = race.weather_data[\"TrackTemp\"]\n",
    "    average_track_temp = round(sum(track_temp) / len(track_temp), 5)\n",
    "\n",
    "    return average_track_temp"
   ]
  },
  {
   "cell_type": "code",
   "execution_count": 5,
   "id": "d772dd67",
   "metadata": {},
   "outputs": [],
   "source": [
    "# Calculate rain percentage\n",
    "def calculate_rain_percentage(race):\n",
    "    rain_data = race.weather_data[\"Rainfall\"]\n",
    "    rain_count = 0\n",
    "\n",
    "    for rain in rain_data:\n",
    "        rain_count = rain_count + 1 if rain else rain_count\n",
    "\n",
    "    rain_percentage = round(rain_count / len(rain_data) * 100, 5)\n",
    "\n",
    "    return rain_percentage"
   ]
  },
  {
   "cell_type": "code",
   "execution_count": 6,
   "id": "12bf0834",
   "metadata": {},
   "outputs": [],
   "source": [
    "# Get gap to pole for each driver\n",
    "def calculate_gap_to_pole_position(qualifying):\n",
    "    \n",
    "    _,__,q3 = qualifying.laps.split_qualifying_sessions()\n",
    "    pole_time = q3.pick_fastest()[\"LapTime\"]\n",
    "\n",
    "    pole_gaps = {}\n",
    "\n",
    "    for driver in qualifying.results.iterrows():\n",
    "        driver = driver[1]\n",
    "        if pd.isna(driver[\"Q3\"]): \n",
    "            if pd.isna(driver[\"Q2\"]):\n",
    "                if pd.isna(driver[\"Q1\"]):\n",
    "                    pole_gaps[driver[\"DriverNumber\"]] = pd.NaT\n",
    "                else:\n",
    "                    gap = driver[\"Q1\"] - pole_time\n",
    "                    pole_gaps[driver[\"DriverNumber\"]] = gap if gap.total_seconds() >= 0 else pd.NaT \n",
    "            else:\n",
    "                gap = driver[\"Q2\"] - pole_time\n",
    "                pole_gaps[driver[\"DriverNumber\"]] = gap if gap.total_seconds() >= 0 else pd.NaT\n",
    "        else:\n",
    "            gap = driver[\"Q3\"] - pole_time\n",
    "            pole_gaps[driver[\"DriverNumber\"]] = gap if gap.total_seconds() >= 0 else pd.NaT\n",
    "    \n",
    "    return pole_gaps"
   ]
  },
  {
   "cell_type": "code",
   "execution_count": 7,
   "id": "e78c2dae",
   "metadata": {},
   "outputs": [],
   "source": [
    "# Get teammate qualifying position for each driver\n",
    "def get_teammate_qualifying_position(qualifying):\n",
    "\n",
    "    teammate_qualifying_pos = {}\n",
    "\n",
    "    for driver in qualifying.results.iterrows():\n",
    "        driver = driver[1]\n",
    "        team_id = driver[\"TeamId\"]\n",
    "        for teammate in qualifying.results.iterrows():\n",
    "            teammate = teammate[1]\n",
    "            if driver[\"DriverNumber\"] == teammate[\"DriverNumber\"]:\n",
    "                continue\n",
    "\n",
    "            if teammate[\"TeamId\"] == team_id:\n",
    "                teammate_qualifying_pos[driver[\"DriverNumber\"]] = teammate[\"Position\"]\n",
    "                break\n",
    "\n",
    "    return teammate_qualifying_pos"
   ]
  },
  {
   "cell_type": "code",
   "execution_count": 8,
   "id": "43967050",
   "metadata": {},
   "outputs": [],
   "source": [
    "# Get drivers own qualifying positions for each driver\n",
    "def get_qualifying_positions(qualifying):\n",
    "\n",
    "    driver_qualifying_pos = {}\n",
    "\n",
    "    for driver in qualifying.results.iterrows():\n",
    "        driver = driver[1]\n",
    "\n",
    "        driver_qualifying_pos[driver[\"DriverNumber\"]] = driver[\"Position\"]\n",
    "\n",
    "    return driver_qualifying_pos"
   ]
  },
  {
   "cell_type": "code",
   "execution_count": 9,
   "id": "38b48ebf",
   "metadata": {},
   "outputs": [],
   "source": [
    "# Get drivers own race finishing positions for each driver\n",
    "def get_race_finishing_positions(race):\n",
    "\n",
    "    driver_finishing_pos = {}\n",
    "\n",
    "    for driver in race.results.iterrows():\n",
    "        driver = driver[1]\n",
    "\n",
    "        driver_finishing_pos[driver[\"DriverNumber\"]] = driver[\"Position\"]\n",
    "    \n",
    "    return driver_finishing_pos"
   ]
  },
  {
   "cell_type": "markdown",
   "id": "c2f51c63",
   "metadata": {},
   "source": [
    "CSV File columns:\n",
    "\n",
    "- FullName\n",
    "- RoundNumber\n",
    "- Season\n",
    "- Location\n",
    "- Rain\n",
    "- WindSpeed\n",
    "- AirTemp\n",
    "- TrackTemp\n",
    "- QualifyingPos\n",
    "- StartingPos\n",
    "- GapToPole\n",
    "- TeammateQualifyingPos\n",
    "- Retired (True or false)"
   ]
  },
  {
   "cell_type": "code",
   "execution_count": 31,
   "id": "cd12fedd",
   "metadata": {},
   "outputs": [
    {
     "name": "stderr",
     "output_type": "stream",
     "text": [
      "core           INFO \tLoading data for Belgian Grand Prix - Qualifying [v3.6.0]\n",
      "req            INFO \tUsing cached data for session_info\n",
      "req            INFO \tUsing cached data for driver_info\n",
      "req            INFO \tUsing cached data for session_status_data\n",
      "req            INFO \tUsing cached data for track_status_data\n",
      "req            INFO \tUsing cached data for _extended_timing_data\n",
      "req            INFO \tUsing cached data for timing_app_data\n",
      "core           INFO \tProcessing timing data...\n",
      "req            INFO \tUsing cached data for car_data\n",
      "req            INFO \tUsing cached data for position_data\n",
      "req            INFO \tUsing cached data for weather_data\n",
      "req            INFO \tUsing cached data for race_control_messages\n",
      "core           INFO \tFinished loading data for 20 drivers: ['4', '81', '16', '1', '23', '63', '22', '6', '30', '5', '31', '87', '10', '27', '55', '44', '43', '12', '14', '18']\n",
      "core           INFO \tLoading data for Belgian Grand Prix - Race [v3.6.0]\n",
      "req            INFO \tNo cached data found for session_info. Loading data...\n",
      "_api           INFO \tFetching session info data...\n",
      "req            INFO \tData has been written to cache!\n",
      "req            INFO \tNo cached data found for driver_info. Loading data...\n",
      "_api           INFO \tFetching driver list...\n",
      "req            INFO \tData has been written to cache!\n",
      "req            INFO \tNo cached data found for session_status_data. Loading data...\n",
      "_api           INFO \tFetching session status data...\n",
      "req            INFO \tData has been written to cache!\n",
      "req            INFO \tNo cached data found for lap_count. Loading data...\n",
      "_api           INFO \tFetching lap count data...\n",
      "req            INFO \tData has been written to cache!\n",
      "req            INFO \tNo cached data found for track_status_data. Loading data...\n",
      "_api           INFO \tFetching track status data...\n",
      "req            INFO \tData has been written to cache!\n",
      "req            INFO \tNo cached data found for _extended_timing_data. Loading data...\n",
      "_api           INFO \tFetching timing data...\n",
      "_api           INFO \tParsing timing data...\n",
      "req            INFO \tData has been written to cache!\n",
      "req            INFO \tNo cached data found for timing_app_data. Loading data...\n",
      "_api           INFO \tFetching timing app data...\n",
      "req            INFO \tData has been written to cache!\n",
      "core           INFO \tProcessing timing data...\n",
      "core        WARNING \tFixed incorrect tyre stint information for driver '81'\n",
      "core        WARNING \tFixed incorrect tyre stint information for driver '4'\n",
      "core        WARNING \tFixed incorrect tyre stint information for driver '16'\n",
      "core        WARNING \tFixed incorrect tyre stint information for driver '1'\n",
      "core        WARNING \tFixed incorrect tyre stint information for driver '63'\n",
      "core        WARNING \tFixed incorrect tyre stint information for driver '23'\n",
      "core        WARNING \tFixed incorrect tyre stint information for driver '44'\n",
      "core        WARNING \tFixed incorrect tyre stint information for driver '30'\n",
      "core        WARNING \tFixed incorrect tyre stint information for driver '5'\n",
      "core        WARNING \tFixed incorrect tyre stint information for driver '10'\n",
      "core        WARNING \tFixed incorrect tyre stint information for driver '87'\n",
      "core        WARNING \tFixed incorrect tyre stint information for driver '27'\n",
      "core        WARNING \tFixed incorrect tyre stint information for driver '22'\n",
      "core        WARNING \tFixed incorrect tyre stint information for driver '18'\n",
      "core        WARNING \tFixed incorrect tyre stint information for driver '31'\n",
      "core        WARNING \tFixed incorrect tyre stint information for driver '12'\n",
      "core        WARNING \tFixed incorrect tyre stint information for driver '14'\n",
      "core        WARNING \tFixed incorrect tyre stint information for driver '55'\n",
      "core        WARNING \tFixed incorrect tyre stint information for driver '43'\n",
      "core        WARNING \tFixed incorrect tyre stint information for driver '6'\n",
      "req            INFO \tNo cached data found for car_data. Loading data...\n",
      "_api           INFO \tFetching car data...\n",
      "_api           INFO \tParsing car data...\n",
      "req            INFO \tData has been written to cache!\n",
      "req            INFO \tNo cached data found for position_data. Loading data...\n",
      "_api           INFO \tFetching position data...\n",
      "_api           INFO \tParsing position data...\n",
      "_api        WARNING \tDriver 241: Position data is incomplete!\n",
      "_api        WARNING \tDriver 242: Position data is incomplete!\n",
      "_api        WARNING \tDriver 243: Position data is incomplete!\n",
      "req            INFO \tData has been written to cache!\n",
      "req            INFO \tNo cached data found for weather_data. Loading data...\n",
      "_api           INFO \tFetching weather data...\n",
      "req            INFO \tData has been written to cache!\n",
      "req            INFO \tNo cached data found for race_control_messages. Loading data...\n",
      "_api           INFO \tFetching race control messages...\n",
      "req            INFO \tData has been written to cache!\n",
      "core           INFO \tFinished loading data for 20 drivers: ['81', '4', '16', '1', '63', '23', '44', '30', '5', '10', '87', '27', '22', '18', '31', '12', '14', '55', '43', '6']\n"
     ]
    }
   ],
   "source": [
    "import csv\n",
    "import pandas as pd\n",
    "import numpy as np\n",
    "from datetime import date\n",
    "\n",
    "date_today = date.today()\n",
    "fieldnames = [\n",
    "    \"DriverNumber\", \"FullName\", \"TeamName\", \"Season\", \"RoundNumber\", \"RacesInGEEra\", \"Location\", \"Rain\", \"WindSpeed\", \"AirTemp\",\n",
    "    \"TrackTemp\", \"QualifyingPos\", \"StartingPos\", \"GapToPole\", \"TeammateQualifyingPos\",\n",
    "    \"Retired\", \"FinishingPos\"\n",
    "]\n",
    "\n",
    "team_ids = {\n",
    "    \"Red Bull Racing\" : 1,\n",
    "    \"Mercedes\" : 2,\n",
    "    \"Ferrari\" : 3,\n",
    "    \"McLaren\" : 4,\n",
    "    \"Alpine\" : 5,\n",
    "    \"AlphaTauri\" : 6,\n",
    "    \"Alfa Romeo\" : 7,\n",
    "    \"Haas F1 Team\" : 8,\n",
    "    \"Williams\" : 9,\n",
    "    \"Aston Martin\" : 10,\n",
    "    \"RB\" : 6,\n",
    "    \"Kick Sauber\" : 7,\n",
    "    \"Racing Bulls\" : 6  \n",
    "}\n",
    "\n",
    "races_in_ge_era = 1\n",
    "\n",
    "for season in range(2022, 2026):\n",
    "    for event in fastf1.get_event_schedule(season).iterrows():\n",
    "        \n",
    "        if event[1][\"EventFormat\"] == \"testing\":\n",
    "            continue\n",
    "\n",
    "        if event[1][\"EventDate\"] != pd.Timestamp(date_today):\n",
    "            continue\n",
    "        \n",
    "        qualifying = fastf1.get_session(season, event[1][\"OfficialEventName\"], \"Q\")\n",
    "        qualifying.load(weather=True)\n",
    "        race = fastf1.get_session(season, event[1][\"OfficialEventName\"], \"R\")\n",
    "        race.load(weather=True)\n",
    "\n",
    "        rain_percentage = calculate_rain_percentage(race)\n",
    "        average_wind_speed = calculate_wind_speed(race)\n",
    "        average_air_temp = calculate_air_temp(race)\n",
    "        average_track_temp = calculate_track_temp(race)\n",
    "        driver_finishing_pos = get_race_finishing_positions(race)\n",
    "        driver_qualifying_pos = get_qualifying_positions(qualifying)\n",
    "        pole_gaps = calculate_gap_to_pole_position(qualifying)\n",
    "        teammate_qualifying_pos = get_teammate_qualifying_position(qualifying)\n",
    "        location = event[1][\"Location\"]\n",
    "\n",
    "        if location == \"Montréal\":\n",
    "            location = \"Montreal\"\n",
    "        elif location == \"São Paulo\":\n",
    "            location = \"Sao Paulo\"\n",
    "\n",
    "        # Write all data in a CSV file\n",
    "        \n",
    "        with open(f\"{season}/{location}_race.csv\", \"w\", newline=\"\") as file:\n",
    "            writer = csv.DictWriter(file, fieldnames=fieldnames)\n",
    "            writer.writeheader()\n",
    "            for driver in race.results.iterrows():\n",
    "                driver = driver[1]\n",
    "\n",
    "                data = {\n",
    "                    \"DriverNumber\" : int(driver[\"DriverNumber\"]),\n",
    "                    \"FullName\" : driver[\"FullName\"],\n",
    "                    \"TeamName\" : team_ids[driver[\"TeamName\"]],\n",
    "                    \"Season\" : season,\n",
    "                    \"RoundNumber\" : event[1][\"RoundNumber\"],\n",
    "                    \"RacesInGEEra\" : races_in_ge_era,\n",
    "                    \"Location\" : location,\n",
    "                    \"Rain\" : rain_percentage,\n",
    "                    \"WindSpeed\" : average_wind_speed,\n",
    "                    \"AirTemp\" : average_air_temp,\n",
    "                    \"TrackTemp\" : average_track_temp,\n",
    "                    \"QualifyingPos\" : driver_qualifying_pos[driver[\"DriverNumber\"]],\n",
    "                    \"StartingPos\" : (driver[\"GridPosition\"]),\n",
    "                    \"GapToPole\" : pd.to_timedelta(pole_gaps[driver[\"DriverNumber\"]]).total_seconds(),\n",
    "                    \"TeammateQualifyingPos\" : teammate_qualifying_pos[driver[\"DriverNumber\"]] if driver[\"DriverNumber\"] in teammate_qualifying_pos else 0,\n",
    "                    \"Retired\" : not (driver[\"Status\"] in [\"Finished\", \"Lapped\"]),\n",
    "                    \"FinishingPos\" : driver_finishing_pos[driver[\"DriverNumber\"]]\n",
    "                }\n",
    "\n",
    "                writer.writerow(data)\n",
    "        \n",
    "        races_in_ge_era += 1\n"
   ]
  },
  {
   "cell_type": "code",
   "execution_count": 18,
   "id": "2da83b8c",
   "metadata": {},
   "outputs": [
    {
     "name": "stdout",
     "output_type": "stream",
     "text": [
      "0.0\n"
     ]
    }
   ],
   "source": [
    "print(pole_gaps[driver[\"DriverNumber\"]].total_seconds())"
   ]
  },
  {
   "cell_type": "code",
   "execution_count": 28,
   "id": "f9ca7a13",
   "metadata": {},
   "outputs": [],
   "source": [
    "test = fastf1.get_session(2025, fastf1.get_event_schedule(2025).get_event_by_round(13)[\"OfficialEventName\"], \"R\")"
   ]
  },
  {
   "cell_type": "code",
   "execution_count": 29,
   "id": "bf6b8e2a",
   "metadata": {},
   "outputs": [
    {
     "data": {
      "text/plain": [
       "2025 Season Round 13: Belgian Grand Prix - Race"
      ]
     },
     "execution_count": 29,
     "metadata": {},
     "output_type": "execute_result"
    }
   ],
   "source": [
    "test"
   ]
  },
  {
   "cell_type": "code",
   "execution_count": null,
   "id": "bda95a27",
   "metadata": {},
   "outputs": [],
   "source": []
  }
 ],
 "metadata": {
  "kernelspec": {
   "display_name": ".venv (3.12.4)",
   "language": "python",
   "name": "python3"
  },
  "language_info": {
   "codemirror_mode": {
    "name": "ipython",
    "version": 3
   },
   "file_extension": ".py",
   "mimetype": "text/x-python",
   "name": "python",
   "nbconvert_exporter": "python",
   "pygments_lexer": "ipython3",
   "version": "3.12.4"
  }
 },
 "nbformat": 4,
 "nbformat_minor": 5
}
